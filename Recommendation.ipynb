{
 "cells": [
  {
   "cell_type": "code",
   "execution_count": 1,
   "metadata": {},
   "outputs": [],
   "source": [
    "import numpy as np\n",
    "import pandas as pd"
   ]
  },
  {
   "cell_type": "code",
   "execution_count": 23,
   "metadata": {},
   "outputs": [],
   "source": [
    "movies = pd.read_csv('../dataset/processed_data.csv')\n",
    "cosine_distance = np.array(pd.read_csv('../dataset/cosine_distance.csv'))\n",
    "\n"
   ]
  },
  {
   "cell_type": "code",
   "execution_count": 29,
   "metadata": {},
   "outputs": [],
   "source": [
    "def recommendation(movie):\n",
    "    movie_index = movies[movies['title'] == movie].index[0]\n",
    "    distance = cosine_distance[movie_index]\n",
    "    movie_list = sorted(list(enumerate(distance)), reverse=True, key=lambda x:x[1])[1:6]\n",
    "    recommendation = []\n",
    "    # print(distance)\n",
    "    for i in movie_list:\n",
    "        recommendation.append(movies.iloc[i[0]].title)\n",
    "        # print(movies.iloc[i[0]].title)\n",
    "        \n",
    "    return recommendation"
   ]
  },
  {
   "cell_type": "code",
   "execution_count": 30,
   "metadata": {},
   "outputs": [
    {
     "name": "stdout",
     "output_type": "stream",
     "text": [
      "['Batman', 'Batman & Robin', 'Batman Begins', 'The R.M.', 'The Dark Knight Rises']\n"
     ]
    }
   ],
   "source": [
    "recommendation = recommendation('Batman')\n",
    "\n",
    "print(recommendation)"
   ]
  }
 ],
 "metadata": {
  "kernelspec": {
   "display_name": "Python 3",
   "language": "python",
   "name": "python3"
  },
  "language_info": {
   "codemirror_mode": {
    "name": "ipython",
    "version": 3
   },
   "file_extension": ".py",
   "mimetype": "text/x-python",
   "name": "python",
   "nbconvert_exporter": "python",
   "pygments_lexer": "ipython3",
   "version": "3.10.2"
  },
  "orig_nbformat": 4
 },
 "nbformat": 4,
 "nbformat_minor": 2
}
